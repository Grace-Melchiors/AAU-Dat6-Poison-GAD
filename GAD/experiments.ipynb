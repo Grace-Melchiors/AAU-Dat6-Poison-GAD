{
 "cells": [
  {
   "cell_type": "code",
   "execution_count": 3,
   "metadata": {},
   "outputs": [
    {
     "name": "stdout",
     "output_type": "stream",
     "text": [
      "node_attrs\n",
      "[[0. 0. 0. ... 0. 0. 0.]\n",
      " [0. 0. 0. ... 0. 0. 0.]\n",
      " [0. 0. 0. ... 0. 0. 0.]\n",
      " ...\n",
      " [0. 0. 0. ... 0. 0. 0.]\n",
      " [0. 0. 0. ... 0. 0. 0.]\n",
      " [0. 0. 0. ... 0. 0. 0.]]\n",
      "adj\n",
      "SparseTensor(row=tensor([   0,    0,    0,  ..., 2707, 2707, 2707]),\n",
      "             col=tensor([ 633, 1862, 2582,  ...,  598, 1473, 2706]),\n",
      "             val=tensor([1., 1., 1.,  ..., 1., 1., 1.]),\n",
      "             size=(2708, 2708), nnz=10556, density=0.14%)\n",
      "labels\n",
      "tensor([3, 4, 4,  ..., 3, 3, 3])\n"
     ]
    },
    {
     "ename": "AttributeError",
     "evalue": "'LocalDICE' object has no attribute 'adj_adversary'",
     "output_type": "error",
     "traceback": [
      "\u001b[1;31m---------------------------------------------------------------------------\u001b[0m",
      "\u001b[1;31mAttributeError\u001b[0m                            Traceback (most recent call last)",
      "Cell \u001b[1;32mIn[3], line 6\u001b[0m\n\u001b[0;32m      2\u001b[0m sys\u001b[38;5;241m.\u001b[39mpath\u001b[38;5;241m.\u001b[39mappend(\u001b[38;5;124m'\u001b[39m\u001b[38;5;124m..\u001b[39m\u001b[38;5;124m'\u001b[39m)\n\u001b[0;32m      4\u001b[0m \u001b[38;5;28;01mfrom\u001b[39;00m \u001b[38;5;21;01mexperiments\u001b[39;00m \u001b[38;5;28;01mimport\u001b[39;00m run_local_dice\n\u001b[1;32m----> 6\u001b[0m pred, score, prob, conf, pred_inj, score_inj, prob_inj, conf_inj \u001b[38;5;241m=\u001b[39m \u001b[43mrun_local_dice\u001b[49m\u001b[43m(\u001b[49m\u001b[43m)\u001b[49m\n\u001b[0;32m      8\u001b[0m \u001b[38;5;28mprint\u001b[39m(pred, score, prob, conf, pred_inj, score_inj, prob_inj, conf_inj)\n",
      "File \u001b[1;32mc:\\Users\\andwh\\Documents\\P6\\AAU-Dat6-Poison-GAD\\GAD\\experiments.py:25\u001b[0m, in \u001b[0;36mrun_local_dice\u001b[1;34m()\u001b[0m\n\u001b[0;32m     22\u001b[0m data_inj \u001b[38;5;241m=\u001b[39m Planetoid(\u001b[38;5;124m\"\u001b[39m\u001b[38;5;124m./data/Cora\u001b[39m\u001b[38;5;124m\"\u001b[39m, \u001b[38;5;124m\"\u001b[39m\u001b[38;5;124mCora\u001b[39m\u001b[38;5;124m\"\u001b[39m, transform\u001b[38;5;241m=\u001b[39mT\u001b[38;5;241m.\u001b[39mNormalizeFeatures())[\u001b[38;5;241m0\u001b[39m]\n\u001b[0;32m     24\u001b[0m \u001b[38;5;66;03m# Convert adversary adjecency matrix into compatible dense tensor\u001b[39;00m\n\u001b[1;32m---> 25\u001b[0m adj_adversary \u001b[38;5;241m=\u001b[39m adj_matrix_sparse_coo_to_dense(\u001b[43mld\u001b[49m\u001b[38;5;241;43m.\u001b[39;49m\u001b[43madj_adversary\u001b[49m)\n\u001b[0;32m     27\u001b[0m data_inj\u001b[38;5;241m.\u001b[39medge_index \u001b[38;5;241m=\u001b[39m adj_adversary\n\u001b[0;32m     29\u001b[0m detector_inj \u001b[38;5;241m=\u001b[39m DOMINANT(hid_dim\u001b[38;5;241m=\u001b[39m\u001b[38;5;241m64\u001b[39m, num_layers\u001b[38;5;241m=\u001b[39m\u001b[38;5;241m4\u001b[39m, epoch\u001b[38;5;241m=\u001b[39m\u001b[38;5;241m100\u001b[39m)\n",
      "\u001b[1;31mAttributeError\u001b[0m: 'LocalDICE' object has no attribute 'adj_adversary'"
     ]
    }
   ],
   "source": [
    "import sys\n",
    "sys.path.append('..')\n",
    "\n",
    "from experiments import run_local_dice\n",
    "\n",
    "pred, score, prob, conf, pred_inj, score_inj, prob_inj, conf_inj = run_local_dice()\n",
    "\n",
    "print(pred, score, prob, conf, pred_inj, score_inj, prob_inj, conf_inj)\n",
    "\n"
   ]
  }
 ],
 "metadata": {
  "kernelspec": {
   "display_name": "PyG",
   "language": "python",
   "name": "python3"
  },
  "language_info": {
   "codemirror_mode": {
    "name": "ipython",
    "version": 3
   },
   "file_extension": ".py",
   "mimetype": "text/x-python",
   "name": "python",
   "nbconvert_exporter": "python",
   "pygments_lexer": "ipython3",
   "version": "3.9.18"
  }
 },
 "nbformat": 4,
 "nbformat_minor": 2
}
