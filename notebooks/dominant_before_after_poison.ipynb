{
 "cells": [
  {
   "cell_type": "code",
   "execution_count": 4,
   "metadata": {},
   "outputs": [],
   "source": [
    "from gad_adversarial_robustness.gad.dominant import dominant\n",
    "from pygod.utils import load_data\n",
    "import torch\n",
    "import torch.nn as nn\n",
    "import torch.nn.functional as F\n",
    "from torch_geometric.data import Data\n",
    "from sklearn.metrics import roc_auc_score\n",
    "import os\n",
    "from gad_adversarial_robustness.utils.graph_utils import prepare_graph\n",
    "from torch_geometric.data import Data\n",
    "import numpy as np\n",
    "from gad_adversarial_robustness.utils.graph_utils import get_n_anomaly_indexes\n",
    "from typing import List\n",
    "from gad_adversarial_robustness.poison.greedy import multiple_AS\n",
    "\n",
    "script_dir = os.path.abspath('')\n",
    "\n",
    "\n",
    "dataset_caching_path = os.path.join(script_dir, '..', '..', '..', 'data')"
   ]
  },
  {
   "cell_type": "markdown",
   "metadata": {},
   "source": [
    "## run the poison"
   ]
  },
  {
   "cell_type": "code",
   "execution_count": 5,
   "metadata": {},
   "outputs": [
    {
     "name": "stdout",
     "output_type": "stream",
     "text": [
      "tensor([1., 1., 1.,  ..., 1., 1., 1.])\n",
      "node_attrs\n",
      "[[0. 0. 0. ... 0. 0. 0.]\n",
      " [0. 0. 0. ... 0. 0. 0.]\n",
      " [0. 0. 0. ... 0. 0. 0.]\n",
      " ...\n",
      " [0. 0. 0. ... 0. 0. 0.]\n",
      " [0. 0. 0. ... 0. 0. 0.]\n",
      " [0. 0. 0. ... 0. 0. 0.]]\n",
      "adj\n",
      "SparseTensor(row=tensor([   0,    0,    0,  ..., 2707, 2707, 2707]),\n",
      "             col=tensor([ 633, 1862, 2582,  ...,  598, 1473, 2706]),\n",
      "             val=tensor([1., 1., 1.,  ..., 1., 1., 1.]),\n",
      "             size=(2708, 2708), nnz=11054, density=0.15%)\n",
      "labels\n",
      "tensor([0, 0, 0,  ..., 0, 0, 0])\n",
      "Create poison compatible adjacency matrix...\n"
     ]
    },
    {
     "ename": "KeyboardInterrupt",
     "evalue": "",
     "output_type": "error",
     "traceback": [
      "\u001b[1;31m---------------------------------------------------------------------------\u001b[0m",
      "\u001b[1;31mKeyboardInterrupt\u001b[0m                         Traceback (most recent call last)",
      "Cell \u001b[1;32mIn[5], line 22\u001b[0m\n\u001b[0;32m     17\u001b[0m     \u001b[38;5;28;01mfor\u001b[39;00m j \u001b[38;5;129;01min\u001b[39;00m \u001b[38;5;28mrange\u001b[39m(i \u001b[38;5;241m+\u001b[39m \u001b[38;5;241m1\u001b[39m, amount_of_nodes):\n\u001b[0;32m     18\u001b[0m         triple\u001b[38;5;241m.\u001b[39mappend([i, j, dense_adj[i,j]])  \u001b[38;5;66;03m#Fill with 0, then insert actual after\u001b[39;00m\n\u001b[1;32m---> 22\u001b[0m triple \u001b[38;5;241m=\u001b[39m \u001b[43mnp\u001b[49m\u001b[38;5;241;43m.\u001b[39;49m\u001b[43marray\u001b[49m\u001b[43m(\u001b[49m\u001b[43mtriple\u001b[49m\u001b[43m)\u001b[49m\n\u001b[0;32m     24\u001b[0m \u001b[38;5;66;03m# These are the nodes we try reduce the active subnetwork score for (disguising anonomaly nodes)\u001b[39;00m\n\u001b[0;32m     25\u001b[0m target_node_lst \u001b[38;5;241m=\u001b[39m get_n_anomaly_indexes(truth, \u001b[38;5;241m999\u001b[39m)\n",
      "File \u001b[1;32mc:\\Users\\andwh\\Anaconda3\\envs\\PyG\\lib\\site-packages\\torch\\_tensor.py:1030\u001b[0m, in \u001b[0;36mTensor.__array__\u001b[1;34m(self, dtype)\u001b[0m\n\u001b[0;32m   1028\u001b[0m     \u001b[38;5;28;01mreturn\u001b[39;00m handle_torch_function(Tensor\u001b[38;5;241m.\u001b[39m__array__, (\u001b[38;5;28mself\u001b[39m,), \u001b[38;5;28mself\u001b[39m, dtype\u001b[38;5;241m=\u001b[39mdtype)\n\u001b[0;32m   1029\u001b[0m \u001b[38;5;28;01mif\u001b[39;00m dtype \u001b[38;5;129;01mis\u001b[39;00m \u001b[38;5;28;01mNone\u001b[39;00m:\n\u001b[1;32m-> 1030\u001b[0m     \u001b[38;5;28;01mreturn\u001b[39;00m \u001b[38;5;28;43mself\u001b[39;49m\u001b[38;5;241;43m.\u001b[39;49m\u001b[43mnumpy\u001b[49m\u001b[43m(\u001b[49m\u001b[43m)\u001b[49m\n\u001b[0;32m   1031\u001b[0m \u001b[38;5;28;01melse\u001b[39;00m:\n\u001b[0;32m   1032\u001b[0m     \u001b[38;5;28;01mreturn\u001b[39;00m \u001b[38;5;28mself\u001b[39m\u001b[38;5;241m.\u001b[39mnumpy()\u001b[38;5;241m.\u001b[39mastype(dtype, copy\u001b[38;5;241m=\u001b[39m\u001b[38;5;28;01mFalse\u001b[39;00m)\n",
      "\u001b[1;31mKeyboardInterrupt\u001b[0m: "
     ]
    }
   ],
   "source": [
    "\n",
    "\n",
    "\n",
    "\n",
    "import copy\n",
    "from gad_adversarial_robustness.poison.greedy import poison_attack\n",
    "\n",
    "\n",
    "clean_data: Data = load_data(\"inj_cora\", dataset_caching_path)\n",
    "poisoned_data: Data = load_data(\"inj_cora\", dataset_caching_path)\n",
    "\n",
    "truth: List[int] = poisoned_data.y.bool()\n",
    "amount_of_nodes = poisoned_data.num_nodes\n",
    "_, adj, _ = prepare_graph(poisoned_data)\n",
    "dense_adj = adj.to_dense()  #Fill in zeroes where there are no edges\n",
    "\n",
    "\n",
    "print(\"Create poison compatible adjacency matrix...\")\n",
    "triple = []\n",
    "for i in range(amount_of_nodes):\n",
    "    for j in range(i + 1, amount_of_nodes):\n",
    "        triple.append([i, j, dense_adj[i,j]])  #Fill with 0, then insert actual after\n",
    "\n",
    "\n",
    "\n",
    "triple = np.array(triple)\n",
    "\n",
    "# These are the nodes we try reduce the active subnetwork score for (disguising anonomaly nodes)\n",
    "target_node_lst = get_n_anomaly_indexes(truth, 999)\n",
    "#target_node_lst = get_n_anomaly_indexes(truth, 10)\n",
    "print(type(target_node_lst)), print(f'target node list: {target_node_lst}'), print(target_node_lst)\n",
    "\n",
    "print(\"Making model...\")\n",
    "model = multiple_AS(target_lst = target_node_lst, n_node = amount_of_nodes, device = 'cpu')\n",
    "budget = 100  # The amount of edges to change\n",
    "\n",
    "\n",
    "print(\"Starting attack...\")\n",
    "#triple = triple.detach().cpu().numpy()\n",
    "\n",
    "#triple = torch.tensor(triple, requires_grad=True)\n",
    "\n",
    "\n",
    "adj_adversary, _, _ = poison_attack(model, triple, budget)\n",
    "\n",
    "print(\"Converting to compatible tensor...\")\n",
    "\n",
    "# Create Edge Index'\n",
    "edge_index = torch.tensor([[],[]])\n",
    "\n",
    "# Transpose it to make shape compatible\n",
    "transposed_adj_adversary = torch.transpose(adj_adversary, 0, 1)\n",
    "\n",
    "for i in range(len(adj_adversary)):\n",
    "    if(adj_adversary[i][2] != 0):   #If edge value is not 0 (no edge)\n",
    "        #Add edge to edge index, choosing first 2 elements (edges), and then the ith edge\n",
    "        edge_index = torch.cat((edge_index, transposed_adj_adversary[:2, i:i+1]), -1)\n",
    "        # Dataset uses edges both ways so add reverse edge as well\n",
    "        edge_index = torch.cat((edge_index, torch.flip(transposed_adj_adversary[:2, i:i+1], dims=[0])), -1)\n",
    "\n",
    "\n",
    "edge_index = edge_index.type(torch.int64)\n",
    "poisoned_data.edge_index = edge_index\n",
    "\n"
   ]
  },
  {
   "cell_type": "code",
   "execution_count": null,
   "metadata": {},
   "outputs": [
    {
     "name": "stdout",
     "output_type": "stream",
     "text": [
      "Epoch: 0099, Auc: 0.8400129701686123\n",
      "Epoch: 0099, Auc: 0.8388823098178538\n"
     ]
    }
   ],
   "source": [
    "import yaml\n",
    "from gad_adversarial_robustness.gad.dominant.dominant import Dominant\n",
    "from gad_adversarial_robustness.utils.graph_utils import load_anomaly_detection_dataset\n",
    "\n",
    "yaml_path = os.path.join(script_dir, '..', 'configs', 'dominant_config.yaml')\n",
    "with open(yaml_path) as file:\n",
    "        config = yaml.safe_load(file)\n",
    "\n",
    "\"\"\"\n",
    "Dominant on clean data\n",
    "\"\"\"\n",
    "\n",
    "adj, attrs, label, adj_label = load_anomaly_detection_dataset(clean_data)\n",
    "adj = torch.FloatTensor(adj)\n",
    "adj_label = torch.FloatTensor(adj_label)\n",
    "attrs = torch.FloatTensor(attrs)\n",
    "\n",
    "\n",
    "model = Dominant(feat_size=attrs.size(1), hidden_size=config['hidden_dim'], dropout=config['dropout'], \n",
    "                 device=config['device'], adj=adj, adj_label=adj_label, attrs=attrs, label=label)\n",
    "model.fit(config)\n",
    "\n",
    "\"\"\"\n",
    "Dominant on poisoned data\n",
    "\"\"\"\n",
    "\n",
    "adj, attrs, label, adj_label = load_anomaly_detection_dataset(poisoned_data)\n",
    "adj = torch.FloatTensor(adj)\n",
    "adj_label = torch.FloatTensor(adj_label)\n",
    "attrs = torch.FloatTensor(attrs)\n",
    "\n",
    "\n",
    "model = Dominant(feat_size=attrs.size(1), hidden_size=config['hidden_dim'], dropout=config['dropout'], \n",
    "                 device=config['device'], adj=adj, adj_label=adj_label, attrs=attrs, label=label)\n",
    "model.fit(config)\n",
    "\n"
   ]
  }
 ],
 "metadata": {
  "kernelspec": {
   "display_name": "PyG",
   "language": "python",
   "name": "python3"
  },
  "language_info": {
   "codemirror_mode": {
    "name": "ipython",
    "version": 3
   },
   "file_extension": ".py",
   "mimetype": "text/x-python",
   "name": "python",
   "nbconvert_exporter": "python",
   "pygments_lexer": "ipython3",
   "version": "3.9.18"
  }
 },
 "nbformat": 4,
 "nbformat_minor": 2
}
