{
 "cells": [
  {
   "cell_type": "code",
   "execution_count": 58,
   "metadata": {
    "ExecuteTime": {
     "end_time": "2024-03-04T14:15:18.796292Z",
     "start_time": "2024-03-04T14:15:18.781732Z"
    }
   },
   "outputs": [
    {
     "ename": "ModuleNotFoundError",
     "evalue": "No module named 'pygod'",
     "output_type": "error",
     "traceback": [
      "\u001B[1;31m---------------------------------------------------------------------------\u001B[0m",
      "\u001B[1;31mModuleNotFoundError\u001B[0m                       Traceback (most recent call last)",
      "Cell \u001B[1;32mIn[58], line 1\u001B[0m\n\u001B[1;32m----> 1\u001B[0m \u001B[38;5;28;01mfrom\u001B[39;00m \u001B[38;5;21;01mpygod\u001B[39;00m\u001B[38;5;21;01m.\u001B[39;00m\u001B[38;5;21;01mutils\u001B[39;00m \u001B[38;5;28;01mimport\u001B[39;00m load_data\n\u001B[0;32m      2\u001B[0m \u001B[38;5;28;01mfrom\u001B[39;00m \u001B[38;5;21;01mpygod\u001B[39;00m\u001B[38;5;21;01m.\u001B[39;00m\u001B[38;5;21;01mdetector\u001B[39;00m \u001B[38;5;28;01mimport\u001B[39;00m DOMINANT\n\u001B[0;32m      3\u001B[0m \u001B[38;5;28;01mfrom\u001B[39;00m \u001B[38;5;21;01mpygod\u001B[39;00m\u001B[38;5;21;01m.\u001B[39;00m\u001B[38;5;21;01mmetric\u001B[39;00m \u001B[38;5;28;01mimport\u001B[39;00m eval_roc_auc\n",
      "\u001B[1;31mModuleNotFoundError\u001B[0m: No module named 'pygod'"
     ]
    }
   ],
   "source": [
    "from pygod.utils import load_data\n",
    "from pygod.detector import DOMINANT\n",
    "from pygod.metric import eval_roc_auc\n",
    "from torch_geometric.datasets import Planetoid\n",
    "import torch_geometric.transforms as T\n",
    "from pygod.generator import gen_contextual_outlier, gen_structural_outlier\n",
    "import torch"
   ]
  },
  {
   "cell_type": "code",
   "execution_count": null,
   "metadata": {
    "ExecuteTime": {
     "end_time": "2024-03-04T14:15:18.797297Z",
     "start_time": "2024-03-04T14:15:18.797297Z"
    }
   },
   "outputs": [],
   "source": [
    "# Load data and boolean truth values\n",
    "data = Planetoid('./data/Cora', 'Cora', transform=T.NormalizeFeatures())[0]\n",
    "data.y = data.y.bool()\n",
    "\n",
    "detector = DOMINANT(hid_dim=64, num_layers=4, epoch=100)\n",
    "# Train the anomaly detector on the dataset\n",
    "detector.fit(data)\n",
    "\n",
    "\n",
    "\n",
    "detector_inj = DOMINANT(hid_dim=64, num_layers=4, epoch=100)\n",
    "data_inj, ya = gen_contextual_outlier(data, n=100, k=50)\n",
    "data_inj, ys = gen_structural_outlier(data, m=10, n=10)\n",
    "data_inj.y = torch.logical_or(ys, ya).long()\n",
    "detector_inj.fit(data_inj)\n"
   ]
  },
  {
   "cell_type": "code",
   "execution_count": null,
   "metadata": {
    "ExecuteTime": {
     "start_time": "2024-03-04T14:15:18.798301Z"
    }
   },
   "outputs": [],
   "source": [
    "def evaluate_anomaly_detector(detector):\n",
    "\n",
    "    pred, score, prob, conf = detector.predict(data,\n",
    "                                                return_pred=True,\n",
    "                                                return_score=True,\n",
    "                                                return_prob=True,\n",
    "                                                return_conf=True)\n",
    "    \n",
    "    return (pred, score, prob, conf)\n",
    "\n",
    "pred, score, prob, conf = evaluate_anomaly_detector(detector)\n",
    "pred_inj, score_inj, prob_inj, conf_inj = evaluate_anomaly_detector(detector_inj)"
   ]
  },
  {
   "cell_type": "code",
   "execution_count": null,
   "metadata": {},
   "outputs": [],
   "source": [
    "import numpy as np\n",
    "\n",
    "# Assuming pred, score, prob, conf are tensors returned by evaluate_anomaly_detector(detector)\n",
    "# And pred_inj, score_inj, prob_inj, conf_inj are tensors returned by evaluate_anomaly_detector(detector_inj)\n",
    "\n",
    "# Convert tensors to numpy arrays or lists for comparison\n",
    "pred_np = pred.detach().numpy()\n",
    "score_np = score.detach().numpy()\n",
    "prob_np = prob.detach().numpy()\n",
    "conf_np = conf.detach().numpy()\n",
    "\n",
    "pred_inj_np = pred_inj.detach().numpy()\n",
    "score_inj_np = score_inj.detach().numpy()\n",
    "prob_inj_np = prob_inj.detach().numpy()\n",
    "conf_inj_np = conf_inj.detach().numpy()\n",
    "\n",
    "# Now you can compare the numpy arrays/lists\n",
    "print(\"Comparison of pred:\")\n",
    "print(pred_np)\n",
    "print(pred_inj_np)\n",
    "\n",
    "print(\"Comparison of score:\")\n",
    "print(score_np)\n",
    "print(score_inj_np)\n",
    "\n",
    "print(\"Comparison of prob:\")\n",
    "print(prob_np)\n",
    "print(prob_inj_np)\n",
    "\n",
    "print(\"Comparison of conf:\")\n",
    "print(conf_np)\n",
    "print(conf_inj_np)"
   ]
  },
  {
   "cell_type": "code",
   "outputs": [],
   "source": [],
   "metadata": {
    "collapsed": false,
    "ExecuteTime": {
     "start_time": "2024-03-04T14:15:18.800298Z"
    }
   },
   "execution_count": null
  }
 ],
 "metadata": {
  "kernelspec": {
   "display_name": "Python 3",
   "language": "python",
   "name": "python3"
  },
  "language_info": {
   "codemirror_mode": {
    "name": "ipython",
    "version": 3
   },
   "file_extension": ".py",
   "mimetype": "text/x-python",
   "name": "python",
   "nbconvert_exporter": "python",
   "pygments_lexer": "ipython3",
   "version": "3.11.5"
  }
 },
 "nbformat": 4,
 "nbformat_minor": 2
}
